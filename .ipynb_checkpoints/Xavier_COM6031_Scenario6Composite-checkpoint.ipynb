{
 "cells": [
  {
   "attachments": {
    "4d868c46-1e9a-41ab-9fa8-57e53a7c6615.png": {
     "image/png": "[encoded data removed]"
    }
   },
   "cell_type": "markdown",
   "id": "15ac2d8a-2afc-476d-a66f-2eb3591ea715",
   "metadata": {},
   "source": [
    "# COM6031 CW1 \n",
    "\n",
    "## Scenario 6 (File System) - Composite Pattern\n",
    "In this scenario the **composite pattern** will be used to implement a simple **File System**.\n",
    "\n",
    "![Xavier_COM6031_Composite-Pattern-UML.png](attachment:4d868c46-1e9a-41ab-9fa8-57e53a7c6615.png)\n",
    "\n",
    "No additions have been made to the **standard design pattern** as it is already **well suited**. The **‘Component’ interface** defines the common **‘CalculateSize()’ method** which is **inherited by** the **‘File’ and ‘Folder’** classes, with the **‘Folder’ class** being responsible for **holding a list of other components**. In this example, the client is a simple demonstration of the file system."
   ]
  },
  {
   "cell_type": "markdown",
   "id": "a4f679b4-ae12-4511-a6ab-9b2c9928fe9f",
   "metadata": {},
   "source": [
    "## Interfaces\n",
    "\n",
    "### Generic Component Interface"
   ]
  },
  {
   "cell_type": "code",
   "execution_count": 1,
   "id": "db233281-b43f-4321-9ae1-e9835dba9a3c",
   "metadata": {},
   "outputs": [],
   "source": [
    "class Component():\n",
    "    \"\"\"Base Component Interface which defines CalculateSize method\n",
    "    \"\"\"\n",
    "    def CalculateSize(self):\n",
    "        \"\"\"CalculateSize method to be overriden by children classes\n",
    "        \"\"\"\n",
    "        pass"
   ]
  },
  {
   "cell_type": "markdown",
   "id": "b5eefd49-c557-4c29-ab01-5313961f6473",
   "metadata": {},
   "source": [
    "## Concrete Component Implementations\n",
    "\n",
    "### File Implementation"
   ]
  },
  {
   "cell_type": "code",
   "execution_count": 2,
   "id": "be48439b-e968-4457-b784-0bc6410c5ab9",
   "metadata": {},
   "outputs": [],
   "source": [
    "class File(Component):\n",
    "    \"\"\"File Component Class to represent a file with a size\n",
    "    \"\"\"\n",
    "    def __init__(self, size):\n",
    "        \"\"\"Initialise component with a size\n",
    "\n",
    "        Args:\n",
    "            size (float): Arbitrary size\n",
    "        \"\"\"\n",
    "        super().__init__()  # Call parent 'Component' class __init__ to preserve parent initialisation (even though it is currently empty)\n",
    "        self._size = size   # Assign size to private variable\n",
    "\n",
    "    def CalculateSize(self):\n",
    "        \"\"\"Returns the size of the file\n",
    "\n",
    "        Returns:\n",
    "            float: Arbitrary size of the file defined at instantiation\n",
    "        \"\"\"\n",
    "        return self._size       # Return private size variable"
   ]
  },
  {
   "cell_type": "markdown",
   "id": "4df73f40-4644-4d33-b88a-e228fe619991",
   "metadata": {},
   "source": [
    "### Folder Implementation"
   ]
  },
  {
   "cell_type": "code",
   "execution_count": 3,
   "id": "ea3b322f-3c99-44a0-b428-e5311d5e71e7",
   "metadata": {},
   "outputs": [],
   "source": [
    "class Folder(Component):\n",
    "    \"\"\"Folder Component Class to represent a folder to contain other components\n",
    "    \"\"\"\n",
    "    def __init__(self):\n",
    "        \"\"\" Initialise component with empty children array\n",
    "        \"\"\"\n",
    "        super().__init__()      # Call parent 'Component' class __init__ to preserve parent initialisation (even though it is currently empty)\n",
    "        self._children = []     # Initialise empty private children array\n",
    "    \n",
    "    def AddChild(self, component):\n",
    "        \"\"\"Add component to folder\n",
    "\n",
    "        Args:\n",
    "            component (Component): Component to be added to folder\n",
    "        \"\"\"\n",
    "        self._children.append(component)                            # Append child component to private children array\n",
    "        print(f'Added {str(component)} to folder {str(self)}')      # Print feedback to console\n",
    "\n",
    "    def RemoveChild(self, component):\n",
    "        \"\"\"Remove component from folder\n",
    "\n",
    "        Args:\n",
    "            component (Component): Component to be removed from folder\n",
    "        \"\"\"\n",
    "        self._children.remove(component)                            # Remove child component from private children array\n",
    "        print(f'Removed {str(component)} from folder {str(self)}')  # Print feedback to console\n",
    "    \n",
    "    def CalculateSize(self):\n",
    "        \"\"\"Calculate the size of the folder\n",
    "\n",
    "        Returns:\n",
    "            float: Calculated size based on recursive search.\n",
    "        \"\"\"\n",
    "        size = 0                                # Set intial size to 0\n",
    "        for child in self._children:            # Loop through all children\n",
    "            size += child.CalculateSize()       # Calculate size of children and add to total size\n",
    "        return size                             # return total calculated size"
   ]
  },
  {
   "cell_type": "markdown",
   "id": "28f7510a-3586-48c7-8f87-b4a5eafe5ca2",
   "metadata": {},
   "source": [
    "### Example Client Code"
   ]
  },
  {
   "cell_type": "code",
   "execution_count": 5,
   "id": "6c242579-22c6-4b2b-bd41-94345a277d67",
   "metadata": {},
   "outputs": [
    {
     "name": "stdout",
     "output_type": "stream",
     "text": [
      "Added <__main__.Folder object at 0x00000156CABE2420> to folder <__main__.Folder object at 0x00000156CA324FB0>\n",
      "Root Folder Size: 0\n",
      "folder1 Folder Size: 0\n",
      "folder2 Folder Size: 0\n",
      "\n",
      "Added <__main__.File object at 0x00000156CAC4E840> to folder <__main__.Folder object at 0x00000156CA324FB0>\n",
      "Added <__main__.File object at 0x00000156CBD0EF60> to folder <__main__.Folder object at 0x00000156CABE2420>\n",
      "Root Folder Size: 30\n",
      "folder1 Folder Size: 20\n",
      "folder2 Folder Size: 0\n",
      "\n",
      "Added <__main__.File object at 0x00000156C9F53980> to folder <__main__.Folder object at 0x00000156C9761AF0>\n",
      "Added <__main__.File object at 0x00000156CAA92CF0> to folder <__main__.Folder object at 0x00000156C9761AF0>\n",
      "Root Folder Size: 30\n",
      "folder1 Folder Size: 20\n",
      "folder2 Folder Size: 70\n",
      "\n",
      "Added <__main__.Folder object at 0x00000156C9761AF0> to folder <__main__.Folder object at 0x00000156CABE2420>\n",
      "Root Folder Size: 100\n",
      "folder1 Folder Size: 90\n",
      "folder2 Folder Size: 70\n",
      "\n",
      "Added <__main__.File object at 0x00000156CA861340> to folder <__main__.Folder object at 0x00000156CA324FB0>\n",
      "Root Folder Size: 150\n",
      "folder1 Folder Size: 90\n",
      "folder2 Folder Size: 70\n",
      "\n",
      "Removed <__main__.File object at 0x00000156C9F53980> from folder <__main__.Folder object at 0x00000156C9761AF0>\n",
      "Root Folder Size: 120\n",
      "folder1 Folder Size: 60\n",
      "folder2 Folder Size: 40\n",
      "\n",
      "Removed <__main__.Folder object at 0x00000156CABE2420> from folder <__main__.Folder object at 0x00000156CA324FB0>\n",
      "Root Folder Size: 60\n",
      "folder1 Folder Size: 60\n",
      "folder2 Folder Size: 40\n",
      "\n"
     ]
    }
   ],
   "source": [
    "\"\"\" Client \"\"\"\n",
    "if __name__ == \"__main__\":\n",
    "    \"\"\" Create Folders \"\"\"\n",
    "    root_folder = Folder()\n",
    "    folder1 = Folder()\n",
    "    folder2 = Folder()\n",
    "\n",
    "    \"\"\" Create Files \"\"\"\n",
    "    root_file = File(10)\n",
    "    file2 = File(20)\n",
    "    file3 = File(30)\n",
    "    file4 = File(40)\n",
    "    file5 = File(50)\n",
    "\n",
    "    \"\"\" Empty Nested Folders \"\"\"\n",
    "    root_folder.AddChild(folder1)\n",
    "    print(f'Root Folder Size: {root_folder.CalculateSize()}')\n",
    "    print(f'folder1 Folder Size: {folder1.CalculateSize()}')\n",
    "    print(f'folder2 Folder Size: {folder2.CalculateSize()}\\n')\n",
    "    \"\"\" Adding Files to Folders \"\"\"\n",
    "    root_folder.AddChild(root_file)\n",
    "    folder1.AddChild(file2)\n",
    "    print(f'Root Folder Size: {root_folder.CalculateSize()}')\n",
    "    print(f'folder1 Folder Size: {folder1.CalculateSize()}')\n",
    "    print(f'folder2 Folder Size: {folder2.CalculateSize()}\\n')\n",
    "    \"\"\" Independent Folder 2 \"\"\"\n",
    "    folder2.AddChild(file3)\n",
    "    folder2.AddChild(file4)\n",
    "    print(f'Root Folder Size: {root_folder.CalculateSize()}')\n",
    "    print(f'folder1 Folder Size: {folder1.CalculateSize()}')\n",
    "    print(f'folder2 Folder Size: {folder2.CalculateSize()}\\n')\n",
    "    \"\"\" Incorporating Folder 2 into the tree \"\"\"\n",
    "    folder1.AddChild(folder2)\n",
    "    print(f'Root Folder Size: {root_folder.CalculateSize()}')\n",
    "    print(f'folder1 Folder Size: {folder1.CalculateSize()}')\n",
    "    print(f'folder2 Folder Size: {folder2.CalculateSize()}\\n')\n",
    "    \"\"\" Adding file to root folder \"\"\"\n",
    "    root_folder.AddChild(file5)\n",
    "    print(f'Root Folder Size: {root_folder.CalculateSize()}')\n",
    "    print(f'folder1 Folder Size: {folder1.CalculateSize()}')\n",
    "    print(f'folder2 Folder Size: {folder2.CalculateSize()}\\n')\n",
    "    \"\"\" Removing files from folders \"\"\"\n",
    "    folder2.RemoveChild(file3)\n",
    "    print(f'Root Folder Size: {root_folder.CalculateSize()}')\n",
    "    print(f'folder1 Folder Size: {folder1.CalculateSize()}')\n",
    "    print(f'folder2 Folder Size: {folder2.CalculateSize()}\\n')\n",
    "    \"\"\" Removing whole folders from folders \"\"\"\n",
    "    root_folder.RemoveChild(folder1)\n",
    "    print(f'Root Folder Size: {root_folder.CalculateSize()}')\n",
    "    print(f'folder1 Folder Size: {folder1.CalculateSize()}')\n",
    "    print(f'folder2 Folder Size: {folder2.CalculateSize()}\\n')"
   ]
  },
  {
   "cell_type": "code",
   "execution_count": null,
   "id": "2ac0246a-a570-49cd-a037-32022e3a573b",
   "metadata": {},
   "outputs": [],
   "source": []
  }
 ],
 "metadata": {
  "kernelspec": {
   "display_name": "Python [conda env:base] *",
   "language": "python",
   "name": "conda-base-py"
  },
  "language_info": {
   "codemirror_mode": {
    "name": "ipython",
    "version": 3
   },
   "file_extension": ".py",
   "mimetype": "text/x-python",
   "name": "python",
   "nbconvert_exporter": "python",
   "pygments_lexer": "ipython3",
   "version": "3.12.7"
  }
 },
 "nbformat": 4,
 "nbformat_minor": 5
}
